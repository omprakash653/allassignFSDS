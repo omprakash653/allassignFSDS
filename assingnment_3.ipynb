{
 "cells": [
  {
   "cell_type": "code",
   "execution_count": 1,
   "id": "9e369605-f598-4eea-9b45-04b5d72bfba9",
   "metadata": {},
   "outputs": [],
   "source": [
    "# 1. What is a lambda function in Python, and how does it differ from a regular function?\n",
    "# 2. Can a lambda function in Python have multiple arguments? If yes, how can you define and use\n",
    "# them?\n",
    "# 3. How are lambda functions typically used in Python? Provide an example use case.\n",
    "# 4. What are the advantages and limitations of lambda functions compared to regular functions in\n",
    "# Python?\n",
    "# 5. Are lambda functions in Python able to access variables defined outside of their own scope?\n",
    "# Explain with an example.\n",
    "# 6. Write a lambda function to calculate the square of a given number.\n",
    "# 7. Create a lambda function to find the maximum value in a list of integers.\n",
    "# 8. Implement a lambda function to filter out all the even numbers from a list of integers.\n",
    "# 9. Write a lambda function to sort a list of strings in ascending order based on the length of each\n",
    "# string.\n",
    "# 10. Create a lambda function that takes two lists as input and returns a new list containing the\n",
    "# common elements between the two lists.\n",
    "# 11. Write a recursive function to calculate the factorial of a given positive integer.\n",
    "# 12. Implement a recursive function to compute the nth Fibonacci number.\n",
    "# 13. Create a recursive function to find the sum of all the elements in a given list.\n",
    "# 14. Write a recursive function to determine whether a given string is a palindrome.\n",
    "# 15. Implement a recursive function to find the greatest common divisor (GCD) of two positive integers."
   ]
  },
  {
   "cell_type": "code",
   "execution_count": 2,
   "id": "4c410598-bf9b-42de-ac32-2acbf3464db1",
   "metadata": {},
   "outputs": [
    {
     "data": {
      "text/plain": [
       "343"
      ]
     },
     "execution_count": 2,
     "metadata": {},
     "output_type": "execute_result"
    }
   ],
   "source": [
    "a=lambda x: x**3\n",
    "a(7)"
   ]
  },
  {
   "cell_type": "code",
   "execution_count": 3,
   "id": "5a4ddf1e-3459-4642-b00b-c672b3551535",
   "metadata": {},
   "outputs": [
    {
     "data": {
      "text/plain": [
       "35"
      ]
     },
     "execution_count": 3,
     "metadata": {},
     "output_type": "execute_result"
    }
   ],
   "source": [
    "s=lambda x,y:x*y\n",
    "s(7,5)"
   ]
  },
  {
   "cell_type": "code",
   "execution_count": 4,
   "id": "9370cf7b-a50c-4155-a3f5-e69005688435",
   "metadata": {},
   "outputs": [
    {
     "data": {
      "text/plain": [
       "40"
      ]
     },
     "execution_count": 4,
     "metadata": {},
     "output_type": "execute_result"
    }
   ],
   "source": [
    "a=10\n",
    "q=lambda x:x*a\n",
    "q(4)"
   ]
  },
  {
   "cell_type": "code",
   "execution_count": 5,
   "id": "456b78c5-5c26-4547-80fe-078b10a23e66",
   "metadata": {},
   "outputs": [
    {
     "data": {
      "text/plain": [
       "81"
      ]
     },
     "execution_count": 5,
     "metadata": {},
     "output_type": "execute_result"
    }
   ],
   "source": [
    "sq=lambda x: x**2\n",
    "sq(9)"
   ]
  },
  {
   "cell_type": "code",
   "execution_count": 13,
   "id": "98b41d10-d113-4bc8-a9f7-6144d89e1e41",
   "metadata": {},
   "outputs": [
    {
     "data": {
      "text/plain": [
       "9"
      ]
     },
     "execution_count": 13,
     "metadata": {},
     "output_type": "execute_result"
    }
   ],
   "source": [
    "n=[1,2,3,4,5,6,8,9,7]\n",
    "ans=lambda n:max(n)\n",
    "ans(n)"
   ]
  },
  {
   "cell_type": "code",
   "execution_count": 16,
   "id": "15acfdce-dd6e-484f-af9a-aed7f647915e",
   "metadata": {},
   "outputs": [
    {
     "data": {
      "text/plain": [
       "[2, 4, 6, 8]"
      ]
     },
     "execution_count": 16,
     "metadata": {},
     "output_type": "execute_result"
    }
   ],
   "source": [
    "n=[1,2,3,4,5,6,8,9,7]\n",
    "a=list(filter(lambda x: x%2==0,n))\n",
    "a"
   ]
  },
  {
   "cell_type": "code",
   "execution_count": 18,
   "id": "56754fee-6fb1-4915-8280-1ba6fb755df4",
   "metadata": {},
   "outputs": [
    {
     "data": {
      "text/plain": [
       "120"
      ]
     },
     "execution_count": 18,
     "metadata": {},
     "output_type": "execute_result"
    }
   ],
   "source": [
    "def facto(n):\n",
    "    if n==1 or n==0:\n",
    "        return 1\n",
    "    else:\n",
    "       return n*facto(n-1)\n",
    "facto(5)"
   ]
  },
  {
   "cell_type": "code",
   "execution_count": 39,
   "id": "d9a9a71a-4e5c-420b-b9db-7c0683152d7c",
   "metadata": {},
   "outputs": [
    {
     "data": {
      "text/plain": [
       "[9, 4, 2, 2]"
      ]
     },
     "execution_count": 39,
     "metadata": {},
     "output_type": "execute_result"
    }
   ],
   "source": [
    "a=[1,2,3,4,4,5,5,6,8,22,3,54,2,6,8,9]\n",
    "b=[9,8888,7,56,4,2,2]\n",
    "uniA=[]\n",
    "# for i in a :\n",
    "#     if i in b:\n",
    "#       uniA.append(i)\n",
    "# set(uniA)\n",
    "res=lambda a,b:list((filter(lambda x : x in a,b)))\n",
    "res(a,b)\n",
    "    "
   ]
  },
  {
   "cell_type": "code",
   "execution_count": null,
   "id": "3c7c6d3b-4d55-4efb-b24a-94634511e53a",
   "metadata": {},
   "outputs": [],
   "source": []
  },
  {
   "cell_type": "code",
   "execution_count": null,
   "id": "b4c09384-3661-4fcf-b951-dab0e7623c5c",
   "metadata": {},
   "outputs": [],
   "source": []
  }
 ],
 "metadata": {
  "kernelspec": {
   "display_name": "Python 3 (ipykernel)",
   "language": "python",
   "name": "python3"
  },
  "language_info": {
   "codemirror_mode": {
    "name": "ipython",
    "version": 3
   },
   "file_extension": ".py",
   "mimetype": "text/x-python",
   "name": "python",
   "nbconvert_exporter": "python",
   "pygments_lexer": "ipython3",
   "version": "3.12.1"
  }
 },
 "nbformat": 4,
 "nbformat_minor": 5
}
