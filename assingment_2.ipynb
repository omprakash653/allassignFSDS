{
 "cells": [
  {
   "cell_type": "code",
   "execution_count": 1,
   "id": "7baa7ef0-0a35-40bb-a16c-2ff019af3453",
   "metadata": {},
   "outputs": [],
   "source": [
    "# 1. What does an empty dictionary's code look like?\n",
    "# 2. What is the value of a dictionary value with the key 'foo' and the value 42?\n",
    "# 3. What is the most significant distinction between a dictionary and a list?\n",
    "# 4. What happens if you try to access spam['foo'] if spam is {'bar': 100}?\n",
    "# 5. If a dictionary is stored in spam, what is the difference between the expressions 'cat' in spam and 'cat' in spam.keys()?\n",
    "# 6. If a dictionary is stored in spam, what is the difference between the expressions 'cat' in spam and 'cat' in spam.values()?\n",
    "# 7. What is a shortcut for the following code?\n",
    "# if 'color' not in spam:\n",
    "# spam['color'] = 'black'\n",
    "# 8. How do you \"pretty print\" dictionary values using which module and function?\n"
   ]
  },
  {
   "cell_type": "code",
   "execution_count": 3,
   "id": "391517d7-93bc-4648-b4aa-e4998a43bae4",
   "metadata": {},
   "outputs": [
    {
     "name": "stdout",
     "output_type": "stream",
     "text": [
      "{}\n"
     ]
    }
   ],
   "source": [
    "emp={}\n",
    "print(emp)"
   ]
  },
  {
   "cell_type": "code",
   "execution_count": 4,
   "id": "da84de75-21d5-40d5-810d-9f935155479e",
   "metadata": {},
   "outputs": [
    {
     "name": "stdout",
     "output_type": "stream",
     "text": [
      "dict_values([42])\n"
     ]
    }
   ],
   "source": [
    "dictt={\"foo\":42}\n",
    "print(dictt.values())"
   ]
  },
  {
   "cell_type": "code",
   "execution_count": 6,
   "id": "46202879-04d9-48dd-8df5-1e44418e95c3",
   "metadata": {},
   "outputs": [
    {
     "name": "stdout",
     "output_type": "stream",
     "text": [
      "(1, 2, 3, 4, 5) {1: 'aniket', 2: 'atharava', 3: 'zunzar'}\n"
     ]
    }
   ],
   "source": [
    "lst =(1,2,3,4,5)# individual values\n",
    "dictt={1:\"aniket\",2:\"atharava\",3:\"zunzar\"} #key value pair\n",
    "print(lst,dictt)"
   ]
  },
  {
   "cell_type": "code",
   "execution_count": 8,
   "id": "44fbdc1d-4e02-4d05-b219-8f211f15d6f5",
   "metadata": {},
   "outputs": [
    {
     "name": "stdout",
     "output_type": "stream",
     "text": [
      "100\n"
     ]
    }
   ],
   "source": [
    "spam={\"bar\":100}\n",
    "print(spam['foo'])"
   ]
  },
  {
   "cell_type": "code",
   "execution_count": 12,
   "id": "60eca328-0a67-4938-94a9-7a55ffcd0bef",
   "metadata": {},
   "outputs": [],
   "source": [
    "spam={\"bar\":100,\"foo\":42,\"do\":801}\n"
   ]
  },
  {
   "cell_type": "code",
   "execution_count": 31,
   "id": "1e8be478-839a-4583-93ba-b38ea365b47c",
   "metadata": {},
   "outputs": [
    {
     "data": {
      "text/plain": [
       "(40, 2401)"
      ]
     },
     "execution_count": 31,
     "metadata": {},
     "output_type": "execute_result"
    }
   ],
   "source": []
  },
  {
   "cell_type": "code",
   "execution_count": null,
   "id": "d8d2d55d-b2ae-4df8-8842-7f5e82d59858",
   "metadata": {},
   "outputs": [],
   "source": []
  }
 ],
 "metadata": {
  "kernelspec": {
   "display_name": "Python 3 (ipykernel)",
   "language": "python",
   "name": "python3"
  },
  "language_info": {
   "codemirror_mode": {
    "name": "ipython",
    "version": 3
   },
   "file_extension": ".py",
   "mimetype": "text/x-python",
   "name": "python",
   "nbconvert_exporter": "python",
   "pygments_lexer": "ipython3",
   "version": "3.12.1"
  }
 },
 "nbformat": 4,
 "nbformat_minor": 5
}
