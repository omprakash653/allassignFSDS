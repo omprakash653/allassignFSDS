{
 "cells": [
  {
   "cell_type": "markdown",
   "id": "f0e2d89f-01a3-4a4e-9ab9-622e2554ccca",
   "metadata": {},
   "source": [
    "Q.1. Create two int type variables, apply addition, subtraction, division and multiplications\r\n",
    "and store the results in variables. Then print the data in the following format by calling the\r\n",
    "variables:"
   ]
  },
  {
   "cell_type": "code",
   "execution_count": 8,
   "id": "6644e30b-6808-4e47-b9fc-e59b8269619c",
   "metadata": {},
   "outputs": [
    {
     "name": "stdin",
     "output_type": "stream",
     "text": [
      "enter frist no.= 7\n",
      "enter second no.= 5\n"
     ]
    },
    {
     "name": "stdout",
     "output_type": "stream",
     "text": [
      "frist variable is 7\n",
      "second variable is 5\n",
      "addition 7 + 5 = 12\n",
      "subraction7 - 5 = 2\n",
      "multiplication7 x 5 = 35\n",
      "division7 / 5 = 1.4\n"
     ]
    }
   ],
   "source": [
    "a=int(input(\"enter frist no.=\"))\n",
    "b=int(input(\"enter second no.=\"))\n",
    "print(f\"frist variable is {a}\")\n",
    "print(f\"second variable is {b}\")\n",
    "print(f\"addition {a} + {b} = {a+b}\")\n",
    "print(f\"subraction {a} - {b} = {a-b}\")\n",
    "print(f\"multiplication {a} x {b} = {a*b}\")\n",
    "print(f\"division {a} / {b} = {a/b}\")"
   ]
  },
  {
   "cell_type": "code",
   "execution_count": 10,
   "id": "0c4628e6-a2d4-4a7f-9cba-d6f1a5f31cd6",
   "metadata": {},
   "outputs": [
    {
     "name": "stdin",
     "output_type": "stream",
     "text": [
      "enter frist no.= 7\n",
      "enter second no.= 3\n"
     ]
    },
    {
     "name": "stdout",
     "output_type": "stream",
     "text": [
      "/ ans after division in float 2.3333333333333335\n",
      "// ans after  double division in int type 2\n"
     ]
    }
   ],
   "source": [
    "a=int(input(\"enter frist no.=\"))\n",
    "b=int(input(\"enter second no.=\"))\n",
    "print(f\"/ ans after division in float {a/b}\")\n",
    "print(f\"// ans after  double division in int type {a//b}\")"
   ]
  },
  {
   "cell_type": "code",
   "execution_count": 11,
   "id": "0cb04178-5d8b-411d-891d-70cee0f67f7b",
   "metadata": {},
   "outputs": [
    {
     "name": "stdin",
     "output_type": "stream",
     "text": [
      "enter frist no.= 7\n",
      "enter raise to.= 3\n"
     ]
    },
    {
     "name": "stdout",
     "output_type": "stream",
     "text": [
      "** ans after 343\n",
      "^ ans after 4\n"
     ]
    }
   ],
   "source": [
    "a=int(input(\"enter frist no.=\"))\n",
    "b=int(input(\"enter raise to.=\"))\n",
    "print(f\"** ans  {a**b}\")\n",
    "print(f\"^ ans  {a^b}\")"
   ]
  },
  {
   "cell_type": "code",
   "execution_count": 14,
   "id": "38e5f1be-cb33-42c0-8011-c9d55382e0e5",
   "metadata": {},
   "outputs": [
    {
     "name": "stdin",
     "output_type": "stream",
     "text": [
      "enter no.= 9\n"
     ]
    },
    {
     "name": "stdout",
     "output_type": "stream",
     "text": [
      "a is greater than 0 and less than 10\n",
      "numeric value\n",
      "a is not in list\n"
     ]
    }
   ],
   "source": [
    "a=int(input(\"enter no.=\"))\n",
    "lst=[2,4,6,8,0]\n",
    "if a>0 and a<10:\n",
    "    print(\"a is greater than 0 and less than 10\")\n",
    "if type(a) == int or type(a) == float:\n",
    "    print(\"numeric value\")\n",
    "if a not in lst:\n",
    "    print(\"a is not in list\")\n"
   ]
  },
  {
   "cell_type": "code",
   "execution_count": 19,
   "id": "4607a906-e48e-442f-b625-da78754cc451",
   "metadata": {},
   "outputs": [
    {
     "name": "stdout",
     "output_type": "stream",
     "text": [
      "present\n"
     ]
    }
   ],
   "source": [
    "lst=[x for x in range(1,16)]\n",
    "if 10 in lst:\n",
    "    print(\"present\")\n",
    "else:\n",
    "    print(\"not present\")"
   ]
  },
  {
   "cell_type": "code",
   "execution_count": null,
   "id": "8585ba63-0169-4d47-bbe6-3786ed2c5fc5",
   "metadata": {},
   "outputs": [],
   "source": []
  }
 ],
 "metadata": {
  "kernelspec": {
   "display_name": "Python 3 (ipykernel)",
   "language": "python",
   "name": "python3"
  },
  "language_info": {
   "codemirror_mode": {
    "name": "ipython",
    "version": 3
   },
   "file_extension": ".py",
   "mimetype": "text/x-python",
   "name": "python",
   "nbconvert_exporter": "python",
   "pygments_lexer": "ipython3",
   "version": "3.12.1"
  }
 },
 "nbformat": 4,
 "nbformat_minor": 5
}
